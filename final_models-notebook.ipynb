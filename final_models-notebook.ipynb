{
 "cells": [
  {
   "cell_type": "code",
   "execution_count": 11,
   "id": "5daddb16-d7fa-488c-8e9b-13fe35d0d04e",
   "metadata": {},
   "outputs": [
    {
     "name": "stderr",
     "output_type": "stream",
     "text": [
      "[nltk_data] Downloading package stopwords to\n",
      "[nltk_data]     C:\\Users\\simant.asawale\\AppData\\Roaming\\nltk_data...\n",
      "[nltk_data]   Unzipping corpora\\stopwords.zip.\n"
     ]
    },
    {
     "data": {
      "text/html": [
       "<div>\n",
       "<style scoped>\n",
       "    .dataframe tbody tr th:only-of-type {\n",
       "        vertical-align: middle;\n",
       "    }\n",
       "\n",
       "    .dataframe tbody tr th {\n",
       "        vertical-align: top;\n",
       "    }\n",
       "\n",
       "    .dataframe thead th {\n",
       "        text-align: right;\n",
       "    }\n",
       "</style>\n",
       "<table border=\"1\" class=\"dataframe\">\n",
       "  <thead>\n",
       "    <tr style=\"text-align: right;\">\n",
       "      <th></th>\n",
       "      <th>Ticket ID</th>\n",
       "      <th>Product Purchased</th>\n",
       "      <th>Ticket Type</th>\n",
       "      <th>Ticket Subject</th>\n",
       "      <th>Ticket Description</th>\n",
       "      <th>User-Like Detailed Description</th>\n",
       "    </tr>\n",
       "  </thead>\n",
       "  <tbody>\n",
       "    <tr>\n",
       "      <th>0</th>\n",
       "      <td>1</td>\n",
       "      <td>GoPro Hero</td>\n",
       "      <td>Technical issue</td>\n",
       "      <td>Product setup</td>\n",
       "      <td>I'm having an issue with the {product_purchase...</td>\n",
       "      <td>I'm experiencing an issue with my GoPro Hero a...</td>\n",
       "    </tr>\n",
       "    <tr>\n",
       "      <th>1</th>\n",
       "      <td>2</td>\n",
       "      <td>LG Smart TV</td>\n",
       "      <td>Technical issue</td>\n",
       "      <td>Peripheral compatibility</td>\n",
       "      <td>I'm having an issue with the {product_purchase...</td>\n",
       "      <td>I'd like to raise a technical issue related to...</td>\n",
       "    </tr>\n",
       "    <tr>\n",
       "      <th>2</th>\n",
       "      <td>3</td>\n",
       "      <td>Dell XPS</td>\n",
       "      <td>Technical issue</td>\n",
       "      <td>Network problem</td>\n",
       "      <td>I'm facing a problem with my {product_purchase...</td>\n",
       "      <td>I need help with my Dell XPS, specifically wit...</td>\n",
       "    </tr>\n",
       "    <tr>\n",
       "      <th>3</th>\n",
       "      <td>4</td>\n",
       "      <td>Microsoft Office</td>\n",
       "      <td>Billing inquiry</td>\n",
       "      <td>Account access</td>\n",
       "      <td>I'm having an issue with the {product_purchase...</td>\n",
       "      <td>I'd like to raise a billing inquiry related to...</td>\n",
       "    </tr>\n",
       "    <tr>\n",
       "      <th>4</th>\n",
       "      <td>5</td>\n",
       "      <td>Autodesk AutoCAD</td>\n",
       "      <td>Billing inquiry</td>\n",
       "      <td>Data loss</td>\n",
       "      <td>I'm having an issue with the {product_purchase...</td>\n",
       "      <td>I'd like to raise a billing inquiry related to...</td>\n",
       "    </tr>\n",
       "  </tbody>\n",
       "</table>\n",
       "</div>"
      ],
      "text/plain": [
       "   Ticket ID Product Purchased      Ticket Type            Ticket Subject  \\\n",
       "0          1        GoPro Hero  Technical issue             Product setup   \n",
       "1          2       LG Smart TV  Technical issue  Peripheral compatibility   \n",
       "2          3          Dell XPS  Technical issue           Network problem   \n",
       "3          4  Microsoft Office  Billing inquiry            Account access   \n",
       "4          5  Autodesk AutoCAD  Billing inquiry                 Data loss   \n",
       "\n",
       "                                  Ticket Description  \\\n",
       "0  I'm having an issue with the {product_purchase...   \n",
       "1  I'm having an issue with the {product_purchase...   \n",
       "2  I'm facing a problem with my {product_purchase...   \n",
       "3  I'm having an issue with the {product_purchase...   \n",
       "4  I'm having an issue with the {product_purchase...   \n",
       "\n",
       "                      User-Like Detailed Description  \n",
       "0  I'm experiencing an issue with my GoPro Hero a...  \n",
       "1  I'd like to raise a technical issue related to...  \n",
       "2  I need help with my Dell XPS, specifically wit...  \n",
       "3  I'd like to raise a billing inquiry related to...  \n",
       "4  I'd like to raise a billing inquiry related to...  "
      ]
     },
     "execution_count": 11,
     "metadata": {},
     "output_type": "execute_result"
    }
   ],
   "source": [
    "#using chatgpt for making new decription column for better context\n",
    "import random\n",
    "import pandas as pd\n",
    "import nltk\n",
    "nltk.download('stopwords')\n",
    "\n",
    "# Define a function to generate a more user-like ticket description\n",
    "def generate_user_like_description(row):\n",
    "    product = row['Product Purchased']\n",
    "    ticket_type = row['Ticket Type']\n",
    "    subject = row['Ticket Subject']\n",
    "    description = row['Ticket Description']\n",
    "    \n",
    "    # Different ways users might phrase their requests\n",
    "    templates = [\n",
    "        f\"I'm experiencing an issue with my {product} and need help with {subject}. Specifically, {description}\",\n",
    "        f\"I'd like to raise a {ticket_type.lower()} related to my {product}. The main problem is: {subject}. {description}\",\n",
    "        f\"Could you please assist me with a {ticket_type.lower()} for my {product}? I'm facing the following issue: {subject}. {description}\",\n",
    "        f\"I have a {ticket_type.lower()} with my {product}. The issue is about: {subject}. {description}\",\n",
    "        f\"I need help with my {product}, specifically with {subject}. {description} This seems like a {ticket_type.lower()}.\"\n",
    "    ]\n",
    "    \n",
    "    # Randomly select a template to ensure variability in the descriptions\n",
    "    summary = random.choice(templates)\n",
    "    \n",
    "    return summary\n",
    "df=pd.read_csv('datasets/customer_support_tickets.csv')\n",
    "# Apply the function to create a new column 'User-Like Detailed Description'\n",
    "df['User-Like Detailed Description'] = df.apply(generate_user_like_description, axis=1)\n",
    "\n",
    "# Display the first few rows of the updated DataFrame\n",
    "df[['Ticket ID', 'Product Purchased', 'Ticket Type', 'Ticket Subject', 'Ticket Description', 'User-Like Detailed Description']].head()\n"
   ]
  },
  {
   "cell_type": "code",
   "execution_count": 12,
   "id": "2c3d60dc-e3f2-4ef9-8bb6-476dc8fe3622",
   "metadata": {},
   "outputs": [],
   "source": [
    "df=df.drop(columns=['Ticket ID','Product Purchased','Ticket Subject','Ticket Description'])"
   ]
  },
  {
   "cell_type": "code",
   "execution_count": 13,
   "id": "361ece9f-f301-44b1-bf1f-0b69fe946be1",
   "metadata": {},
   "outputs": [
    {
     "data": {
      "text/html": [
       "<div>\n",
       "<style scoped>\n",
       "    .dataframe tbody tr th:only-of-type {\n",
       "        vertical-align: middle;\n",
       "    }\n",
       "\n",
       "    .dataframe tbody tr th {\n",
       "        vertical-align: top;\n",
       "    }\n",
       "\n",
       "    .dataframe thead th {\n",
       "        text-align: right;\n",
       "    }\n",
       "</style>\n",
       "<table border=\"1\" class=\"dataframe\">\n",
       "  <thead>\n",
       "    <tr style=\"text-align: right;\">\n",
       "      <th></th>\n",
       "      <th>Customer Name</th>\n",
       "      <th>Customer Email</th>\n",
       "      <th>Customer Age</th>\n",
       "      <th>Customer Gender</th>\n",
       "      <th>Date of Purchase</th>\n",
       "      <th>Ticket Type</th>\n",
       "      <th>Ticket Status</th>\n",
       "      <th>Resolution</th>\n",
       "      <th>Ticket Priority</th>\n",
       "      <th>Ticket Channel</th>\n",
       "      <th>First Response Time</th>\n",
       "      <th>Time to Resolution</th>\n",
       "      <th>Customer Satisfaction Rating</th>\n",
       "      <th>User-Like Detailed Description</th>\n",
       "    </tr>\n",
       "  </thead>\n",
       "  <tbody>\n",
       "    <tr>\n",
       "      <th>0</th>\n",
       "      <td>Marisa Obrien</td>\n",
       "      <td>carrollallison@example.com</td>\n",
       "      <td>32</td>\n",
       "      <td>Other</td>\n",
       "      <td>2021-03-22</td>\n",
       "      <td>Technical issue</td>\n",
       "      <td>Pending Customer Response</td>\n",
       "      <td>NaN</td>\n",
       "      <td>Critical</td>\n",
       "      <td>Social media</td>\n",
       "      <td>2023-06-01 12:15:36</td>\n",
       "      <td>NaN</td>\n",
       "      <td>NaN</td>\n",
       "      <td>I'm experiencing an issue with my GoPro Hero a...</td>\n",
       "    </tr>\n",
       "    <tr>\n",
       "      <th>1</th>\n",
       "      <td>Jessica Rios</td>\n",
       "      <td>clarkeashley@example.com</td>\n",
       "      <td>42</td>\n",
       "      <td>Female</td>\n",
       "      <td>2021-05-22</td>\n",
       "      <td>Technical issue</td>\n",
       "      <td>Pending Customer Response</td>\n",
       "      <td>NaN</td>\n",
       "      <td>Critical</td>\n",
       "      <td>Chat</td>\n",
       "      <td>2023-06-01 16:45:38</td>\n",
       "      <td>NaN</td>\n",
       "      <td>NaN</td>\n",
       "      <td>I'd like to raise a technical issue related to...</td>\n",
       "    </tr>\n",
       "    <tr>\n",
       "      <th>2</th>\n",
       "      <td>Christopher Robbins</td>\n",
       "      <td>gonzalestracy@example.com</td>\n",
       "      <td>48</td>\n",
       "      <td>Other</td>\n",
       "      <td>2020-07-14</td>\n",
       "      <td>Technical issue</td>\n",
       "      <td>Closed</td>\n",
       "      <td>Case maybe show recently my computer follow.</td>\n",
       "      <td>Low</td>\n",
       "      <td>Social media</td>\n",
       "      <td>2023-06-01 11:14:38</td>\n",
       "      <td>2023-06-01 18:05:38</td>\n",
       "      <td>3.0</td>\n",
       "      <td>I need help with my Dell XPS, specifically wit...</td>\n",
       "    </tr>\n",
       "    <tr>\n",
       "      <th>3</th>\n",
       "      <td>Christina Dillon</td>\n",
       "      <td>bradleyolson@example.org</td>\n",
       "      <td>27</td>\n",
       "      <td>Female</td>\n",
       "      <td>2020-11-13</td>\n",
       "      <td>Billing inquiry</td>\n",
       "      <td>Closed</td>\n",
       "      <td>Try capital clearly never color toward story.</td>\n",
       "      <td>Low</td>\n",
       "      <td>Social media</td>\n",
       "      <td>2023-06-01 07:29:40</td>\n",
       "      <td>2023-06-01 01:57:40</td>\n",
       "      <td>3.0</td>\n",
       "      <td>I'd like to raise a billing inquiry related to...</td>\n",
       "    </tr>\n",
       "    <tr>\n",
       "      <th>4</th>\n",
       "      <td>Alexander Carroll</td>\n",
       "      <td>bradleymark@example.com</td>\n",
       "      <td>67</td>\n",
       "      <td>Female</td>\n",
       "      <td>2020-02-04</td>\n",
       "      <td>Billing inquiry</td>\n",
       "      <td>Closed</td>\n",
       "      <td>West decision evidence bit.</td>\n",
       "      <td>Low</td>\n",
       "      <td>Email</td>\n",
       "      <td>2023-06-01 00:12:42</td>\n",
       "      <td>2023-06-01 19:53:42</td>\n",
       "      <td>1.0</td>\n",
       "      <td>I'd like to raise a billing inquiry related to...</td>\n",
       "    </tr>\n",
       "  </tbody>\n",
       "</table>\n",
       "</div>"
      ],
      "text/plain": [
       "         Customer Name              Customer Email  Customer Age  \\\n",
       "0        Marisa Obrien  carrollallison@example.com            32   \n",
       "1         Jessica Rios    clarkeashley@example.com            42   \n",
       "2  Christopher Robbins   gonzalestracy@example.com            48   \n",
       "3     Christina Dillon    bradleyolson@example.org            27   \n",
       "4    Alexander Carroll     bradleymark@example.com            67   \n",
       "\n",
       "  Customer Gender Date of Purchase      Ticket Type  \\\n",
       "0           Other       2021-03-22  Technical issue   \n",
       "1          Female       2021-05-22  Technical issue   \n",
       "2           Other       2020-07-14  Technical issue   \n",
       "3          Female       2020-11-13  Billing inquiry   \n",
       "4          Female       2020-02-04  Billing inquiry   \n",
       "\n",
       "               Ticket Status                                     Resolution  \\\n",
       "0  Pending Customer Response                                            NaN   \n",
       "1  Pending Customer Response                                            NaN   \n",
       "2                     Closed   Case maybe show recently my computer follow.   \n",
       "3                     Closed  Try capital clearly never color toward story.   \n",
       "4                     Closed                    West decision evidence bit.   \n",
       "\n",
       "  Ticket Priority Ticket Channel  First Response Time   Time to Resolution  \\\n",
       "0        Critical   Social media  2023-06-01 12:15:36                  NaN   \n",
       "1        Critical           Chat  2023-06-01 16:45:38                  NaN   \n",
       "2             Low   Social media  2023-06-01 11:14:38  2023-06-01 18:05:38   \n",
       "3             Low   Social media  2023-06-01 07:29:40  2023-06-01 01:57:40   \n",
       "4             Low          Email  2023-06-01 00:12:42  2023-06-01 19:53:42   \n",
       "\n",
       "   Customer Satisfaction Rating  \\\n",
       "0                           NaN   \n",
       "1                           NaN   \n",
       "2                           3.0   \n",
       "3                           3.0   \n",
       "4                           1.0   \n",
       "\n",
       "                      User-Like Detailed Description  \n",
       "0  I'm experiencing an issue with my GoPro Hero a...  \n",
       "1  I'd like to raise a technical issue related to...  \n",
       "2  I need help with my Dell XPS, specifically wit...  \n",
       "3  I'd like to raise a billing inquiry related to...  \n",
       "4  I'd like to raise a billing inquiry related to...  "
      ]
     },
     "execution_count": 13,
     "metadata": {},
     "output_type": "execute_result"
    }
   ],
   "source": [
    "df.head()"
   ]
  },
  {
   "cell_type": "code",
   "execution_count": 14,
   "id": "0a77eab8-3b71-4ce4-9ecc-709bbc73128a",
   "metadata": {},
   "outputs": [],
   "source": [
    "df_desc=df['User-Like Detailed Description']\n",
    "df_ticket=df['Ticket Type']"
   ]
  },
  {
   "cell_type": "code",
   "execution_count": 15,
   "id": "433d74f2-f95f-43aa-95f0-fd1bc576771b",
   "metadata": {},
   "outputs": [],
   "source": [
    "df=pd.concat([df_desc,df_ticket],axis=1)"
   ]
  },
  {
   "cell_type": "code",
   "execution_count": 16,
   "id": "d9f02cf9-a093-4be2-95ee-c37363870f30",
   "metadata": {},
   "outputs": [
    {
     "data": {
      "text/html": [
       "<div>\n",
       "<style scoped>\n",
       "    .dataframe tbody tr th:only-of-type {\n",
       "        vertical-align: middle;\n",
       "    }\n",
       "\n",
       "    .dataframe tbody tr th {\n",
       "        vertical-align: top;\n",
       "    }\n",
       "\n",
       "    .dataframe thead th {\n",
       "        text-align: right;\n",
       "    }\n",
       "</style>\n",
       "<table border=\"1\" class=\"dataframe\">\n",
       "  <thead>\n",
       "    <tr style=\"text-align: right;\">\n",
       "      <th></th>\n",
       "      <th>User-Like Detailed Description</th>\n",
       "      <th>Ticket Type</th>\n",
       "    </tr>\n",
       "  </thead>\n",
       "  <tbody>\n",
       "    <tr>\n",
       "      <th>0</th>\n",
       "      <td>I'm experiencing an issue with my GoPro Hero a...</td>\n",
       "      <td>Technical issue</td>\n",
       "    </tr>\n",
       "    <tr>\n",
       "      <th>1</th>\n",
       "      <td>I'd like to raise a technical issue related to...</td>\n",
       "      <td>Technical issue</td>\n",
       "    </tr>\n",
       "    <tr>\n",
       "      <th>2</th>\n",
       "      <td>I need help with my Dell XPS, specifically wit...</td>\n",
       "      <td>Technical issue</td>\n",
       "    </tr>\n",
       "    <tr>\n",
       "      <th>3</th>\n",
       "      <td>I'd like to raise a billing inquiry related to...</td>\n",
       "      <td>Billing inquiry</td>\n",
       "    </tr>\n",
       "    <tr>\n",
       "      <th>4</th>\n",
       "      <td>I'd like to raise a billing inquiry related to...</td>\n",
       "      <td>Billing inquiry</td>\n",
       "    </tr>\n",
       "  </tbody>\n",
       "</table>\n",
       "</div>"
      ],
      "text/plain": [
       "                      User-Like Detailed Description      Ticket Type\n",
       "0  I'm experiencing an issue with my GoPro Hero a...  Technical issue\n",
       "1  I'd like to raise a technical issue related to...  Technical issue\n",
       "2  I need help with my Dell XPS, specifically wit...  Technical issue\n",
       "3  I'd like to raise a billing inquiry related to...  Billing inquiry\n",
       "4  I'd like to raise a billing inquiry related to...  Billing inquiry"
      ]
     },
     "execution_count": 16,
     "metadata": {},
     "output_type": "execute_result"
    }
   ],
   "source": [
    "df.head()"
   ]
  },
  {
   "cell_type": "code",
   "execution_count": 17,
   "id": "2845d8fc-a36d-41bb-ad6f-7d13d969af12",
   "metadata": {},
   "outputs": [
    {
     "data": {
      "text/plain": [
       "\"I'm experiencing an issue with my GoPro Hero and need help with Product setup. Specifically, I'm having an issue with the {product_purchased}. Please assist.\\n\\nYour billing zip code is: 71701.\\n\\nWe appreciate that you have requested a website address.\\n\\nPlease double check your email address. I've tried troubleshooting steps mentioned in the user manual, but the issue persists.\""
      ]
     },
     "execution_count": 17,
     "metadata": {},
     "output_type": "execute_result"
    }
   ],
   "source": [
    "df['User-Like Detailed Description'][0]"
   ]
  },
  {
   "cell_type": "code",
   "execution_count": 18,
   "id": "7d8cd552-c9c6-4522-868a-23c04597f849",
   "metadata": {},
   "outputs": [
    {
     "name": "stdout",
     "output_type": "stream",
     "text": [
      "                      User-Like Detailed Description      Ticket Type\n",
      "0  im experiencing issue gopro hero need help pro...  Technical issue\n",
      "1  id like raise technical issue related lg smart...  Technical issue\n",
      "2  need help dell xps specifically network proble...  Technical issue\n",
      "3  id like raise billing inquiry related microsof...  Billing inquiry\n",
      "4  id like raise billing inquiry related autodesk...  Billing inquiry\n"
     ]
    }
   ],
   "source": [
    "import re\n",
    "import string\n",
    "from nltk.corpus import stopwords\n",
    "\n",
    "# Function to clean text\n",
    "def clean_text(text):\n",
    "    # Convert to lowercase\n",
    "    text = text.lower()\n",
    "    \n",
    "    # Remove punctuation\n",
    "    text = text.translate(str.maketrans(\"\", \"\", string.punctuation))\n",
    "    \n",
    "    # Remove newlines\n",
    "    text = text.replace(\"\\n\", \" \")\n",
    "    \n",
    "    # Remove multiple whitespaces\n",
    "    text = re.sub(r'\\s+', ' ', text).strip()\n",
    "    \n",
    "    # Remove stop words\n",
    "    stop_words = set(stopwords.words('english'))\n",
    "    text = ' '.join([word for word in text.split() if word not in stop_words])\n",
    "    \n",
    "    return text\n",
    "\n",
    "# Apply the clean_text function to the 'User-Like Detailed Description' column\n",
    "df['User-Like Detailed Description'] = df['User-Like Detailed Description'].apply(clean_text)\n",
    "\n",
    "# Display the cleaned DataFrame\n",
    "print(df.head())\n",
    "\n",
    "\n",
    "\n"
   ]
  },
  {
   "cell_type": "code",
   "execution_count": 19,
   "id": "f18ad82e-302d-453b-862a-38022b9dee54",
   "metadata": {},
   "outputs": [
    {
     "name": "stdout",
     "output_type": "stream",
     "text": [
      "                      User-Like Detailed Description      Ticket Type\n",
      "0  experiencing issue gopro hero need help produc...  Technical issue\n",
      "1  id like raise technical issue related lg smart...  Technical issue\n",
      "2  need help dell xps specifically network proble...  Technical issue\n",
      "3  id like raise billing inquiry related microsof...  Billing inquiry\n",
      "4  id like raise billing inquiry related autodesk...  Billing inquiry\n"
     ]
    }
   ],
   "source": [
    "def clean_text(text):\n",
    "    # Convert to lowercase\n",
    "    text = text.lower()\n",
    "    \n",
    "    # Remove punctuation\n",
    "    text = text.translate(str.maketrans(\"\", \"\", string.punctuation))\n",
    "    \n",
    "    # Remove newlines\n",
    "    text = text.replace(\"\\n\", \" \")\n",
    "    \n",
    "    # Remove multiple whitespaces\n",
    "    text = re.sub(r'\\s+', ' ', text).strip()\n",
    "    \n",
    "    # Remove stop words\n",
    "    stop_words = set(stopwords.words('english'))\n",
    "    custom_words = {'productpurchased', 'please assist', 'im'}  # Add custom words/phrases here\n",
    "    all_stop_words = stop_words.union(custom_words)\n",
    "    \n",
    "    # Remove stop words and custom words\n",
    "    text = ' '.join([word for word in text.split() if word not in all_stop_words])\n",
    "    \n",
    "    return text\n",
    "\n",
    "# Apply the clean_text function to the 'User-Like Detailed Description' column\n",
    "df['User-Like Detailed Description'] = df['User-Like Detailed Description'].apply(clean_text)\n",
    "\n",
    "# Display the cleaned DataFrame\n",
    "print(df.head())\n"
   ]
  },
  {
   "cell_type": "code",
   "execution_count": 20,
   "id": "37dc3ef2-5d5b-4945-8843-67fe077ac7d0",
   "metadata": {},
   "outputs": [
    {
     "data": {
      "text/plain": [
       "'experiencing issue gopro hero need help product setup specifically issue please assist billing zip code 71701 appreciate requested website address please double check email address ive tried troubleshooting steps mentioned user manual issue persists'"
      ]
     },
     "execution_count": 20,
     "metadata": {},
     "output_type": "execute_result"
    }
   ],
   "source": [
    "df['User-Like Detailed Description'][0]\n"
   ]
  },
  {
   "cell_type": "code",
   "execution_count": 21,
   "id": "b692d3d5-95ba-441f-b3f4-94ec2923c616",
   "metadata": {},
   "outputs": [],
   "source": [
    "#label encoding\n",
    "from sklearn.preprocessing import LabelEncoder\n",
    "le=LabelEncoder()\n",
    "df['Ticket Type']=le.fit_transform(df['Ticket Type'])"
   ]
  },
  {
   "cell_type": "code",
   "execution_count": 22,
   "id": "08112253-28d2-41ef-bccc-fe398d2a35c5",
   "metadata": {},
   "outputs": [
    {
     "data": {
      "text/html": [
       "<div>\n",
       "<style scoped>\n",
       "    .dataframe tbody tr th:only-of-type {\n",
       "        vertical-align: middle;\n",
       "    }\n",
       "\n",
       "    .dataframe tbody tr th {\n",
       "        vertical-align: top;\n",
       "    }\n",
       "\n",
       "    .dataframe thead th {\n",
       "        text-align: right;\n",
       "    }\n",
       "</style>\n",
       "<table border=\"1\" class=\"dataframe\">\n",
       "  <thead>\n",
       "    <tr style=\"text-align: right;\">\n",
       "      <th></th>\n",
       "      <th>User-Like Detailed Description</th>\n",
       "      <th>Ticket Type</th>\n",
       "    </tr>\n",
       "  </thead>\n",
       "  <tbody>\n",
       "    <tr>\n",
       "      <th>0</th>\n",
       "      <td>experiencing issue gopro hero need help produc...</td>\n",
       "      <td>4</td>\n",
       "    </tr>\n",
       "    <tr>\n",
       "      <th>1</th>\n",
       "      <td>id like raise technical issue related lg smart...</td>\n",
       "      <td>4</td>\n",
       "    </tr>\n",
       "    <tr>\n",
       "      <th>2</th>\n",
       "      <td>need help dell xps specifically network proble...</td>\n",
       "      <td>4</td>\n",
       "    </tr>\n",
       "    <tr>\n",
       "      <th>3</th>\n",
       "      <td>id like raise billing inquiry related microsof...</td>\n",
       "      <td>0</td>\n",
       "    </tr>\n",
       "    <tr>\n",
       "      <th>4</th>\n",
       "      <td>id like raise billing inquiry related autodesk...</td>\n",
       "      <td>0</td>\n",
       "    </tr>\n",
       "  </tbody>\n",
       "</table>\n",
       "</div>"
      ],
      "text/plain": [
       "                      User-Like Detailed Description  Ticket Type\n",
       "0  experiencing issue gopro hero need help produc...            4\n",
       "1  id like raise technical issue related lg smart...            4\n",
       "2  need help dell xps specifically network proble...            4\n",
       "3  id like raise billing inquiry related microsof...            0\n",
       "4  id like raise billing inquiry related autodesk...            0"
      ]
     },
     "execution_count": 22,
     "metadata": {},
     "output_type": "execute_result"
    }
   ],
   "source": [
    "df.head()"
   ]
  },
  {
   "cell_type": "code",
   "execution_count": 23,
   "id": "750768e7-ef63-4321-b8aa-9136d2707ad3",
   "metadata": {},
   "outputs": [
    {
     "name": "stdout",
     "output_type": "stream",
     "text": [
      "              precision    recall  f1-score   support\n",
      "\n",
      "           0       0.72      0.74      0.73       327\n",
      "           1       0.65      0.52      0.58       339\n",
      "           2       0.74      0.52      0.61       328\n",
      "           3       0.58      0.68      0.63       351\n",
      "           4       0.67      0.85      0.75       349\n",
      "\n",
      "    accuracy                           0.67      1694\n",
      "   macro avg       0.67      0.66      0.66      1694\n",
      "weighted avg       0.67      0.67      0.66      1694\n",
      "\n"
     ]
    }
   ],
   "source": [
    "from sklearn.pipeline import Pipeline\n",
    "from sklearn.naive_bayes import MultinomialNB\n",
    "from sklearn.feature_extraction.text import CountVectorizer,TfidfVectorizer\n",
    "from sklearn.model_selection import train_test_split\n",
    "from sklearn.metrics import classification_report\n",
    "\n",
    "x_train,x_test,y_train,y_test=train_test_split(df['User-Like Detailed Description'],df['Ticket Type'],test_size=0.2,random_state=42,stratify=df['Ticket Type'])\n",
    "\n",
    "nb=Pipeline([('vectorizer',TfidfVectorizer()),('nb',MultinomialNB())])\n",
    "\n",
    "nb.fit(x_train,y_train)\n",
    "\n",
    "y_pred=nb.predict(x_test)\n",
    "\n",
    "print(classification_report(y_test,y_pred))"
   ]
  },
  {
   "cell_type": "code",
   "execution_count": 24,
   "id": "02ea4dc4-0db3-49f2-a983-b31438faaa8f",
   "metadata": {},
   "outputs": [
    {
     "name": "stdout",
     "output_type": "stream",
     "text": [
      "              precision    recall  f1-score   support\n",
      "\n",
      "           0       0.32      0.35      0.34       327\n",
      "           1       0.30      0.41      0.35       339\n",
      "           2       0.32      0.28      0.30       328\n",
      "           3       0.37      0.32      0.34       351\n",
      "           4       0.40      0.33      0.36       349\n",
      "\n",
      "    accuracy                           0.34      1694\n",
      "   macro avg       0.34      0.34      0.34      1694\n",
      "weighted avg       0.34      0.34      0.34      1694\n",
      "\n"
     ]
    }
   ],
   "source": [
    "from sklearn.neighbors import KNeighborsClassifier\n",
    "\n",
    "knn=Pipeline([('vectorizer',TfidfVectorizer()),('knn',KNeighborsClassifier())])\n",
    "\n",
    "knn.fit(x_train,y_train)\n",
    "\n",
    "y_pred=knn.predict(x_test)\n",
    "\n",
    "print(classification_report(y_test,y_pred))"
   ]
  },
  {
   "cell_type": "code",
   "execution_count": 25,
   "id": "1375f5ce-a53e-4e13-a7d3-a2fe73bc2939",
   "metadata": {},
   "outputs": [
    {
     "name": "stdout",
     "output_type": "stream",
     "text": [
      "              precision    recall  f1-score   support\n",
      "\n",
      "           0       0.74      0.81      0.77       327\n",
      "           1       0.75      0.70      0.72       339\n",
      "           2       0.75      0.67      0.71       328\n",
      "           3       0.78      0.71      0.74       351\n",
      "           4       0.77      0.90      0.83       349\n",
      "\n",
      "    accuracy                           0.76      1694\n",
      "   macro avg       0.76      0.76      0.76      1694\n",
      "weighted avg       0.76      0.76      0.76      1694\n",
      "\n"
     ]
    }
   ],
   "source": [
    "nb2=Pipeline([('vectorizer',CountVectorizer()),('nb',MultinomialNB())])\n",
    "\n",
    "nb2.fit(x_train,y_train)\n",
    "\n",
    "y_pred=nb2.predict(x_test)\n",
    "\n",
    "print(classification_report(y_test,y_pred))"
   ]
  },
  {
   "cell_type": "code",
   "execution_count": 26,
   "id": "964587c1-a146-482f-90a3-2951abce43ee",
   "metadata": {},
   "outputs": [
    {
     "name": "stdout",
     "output_type": "stream",
     "text": [
      "              precision    recall  f1-score   support\n",
      "\n",
      "           0       0.92      0.82      0.87       327\n",
      "           1       0.86      0.77      0.81       339\n",
      "           2       0.89      0.84      0.87       328\n",
      "           3       0.82      0.81      0.82       351\n",
      "           4       0.74      0.92      0.82       349\n",
      "\n",
      "    accuracy                           0.84      1694\n",
      "   macro avg       0.84      0.83      0.84      1694\n",
      "weighted avg       0.84      0.84      0.84      1694\n",
      "\n"
     ]
    }
   ],
   "source": [
    "nb2=Pipeline([('vectorizer',CountVectorizer(ngram_range=(1,2))),('nb',MultinomialNB())])\n",
    "\n",
    "nb2.fit(x_train,y_train)\n",
    "\n",
    "y_pred=nb2.predict(x_test)\n",
    "\n",
    "print(classification_report(y_test,y_pred))"
   ]
  },
  {
   "cell_type": "code",
   "execution_count": 27,
   "id": "7fddf84e-32f5-44bc-9435-f047e4ff0aea",
   "metadata": {},
   "outputs": [
    {
     "name": "stdout",
     "output_type": "stream",
     "text": [
      "              precision    recall  f1-score   support\n",
      "\n",
      "           0       0.93      0.82      0.87       327\n",
      "           1       0.89      0.78      0.83       339\n",
      "           2       0.89      0.85      0.87       328\n",
      "           3       0.82      0.84      0.83       351\n",
      "           4       0.74      0.93      0.83       349\n",
      "\n",
      "    accuracy                           0.84      1694\n",
      "   macro avg       0.85      0.84      0.84      1694\n",
      "weighted avg       0.85      0.84      0.84      1694\n",
      "\n"
     ]
    }
   ],
   "source": [
    "nb3=Pipeline([('vectorizer',CountVectorizer(ngram_range=(1,3))),('nb',MultinomialNB())])\n",
    "\n",
    "nb3.fit(x_train,y_train)\n",
    "\n",
    "y_pred=nb3.predict(x_test)\n",
    "\n",
    "print(classification_report(y_test,y_pred))"
   ]
  },
  {
   "cell_type": "code",
   "execution_count": 28,
   "id": "4b43be48-c6dd-4336-b9d0-a0c051244b57",
   "metadata": {},
   "outputs": [
    {
     "name": "stdout",
     "output_type": "stream",
     "text": [
      "              precision    recall  f1-score   support\n",
      "\n",
      "           0       0.92      0.82      0.87       327\n",
      "           1       0.88      0.78      0.83       339\n",
      "           2       0.88      0.85      0.87       328\n",
      "           3       0.83      0.83      0.83       351\n",
      "           4       0.75      0.93      0.83       349\n",
      "\n",
      "    accuracy                           0.84      1694\n",
      "   macro avg       0.85      0.84      0.85      1694\n",
      "weighted avg       0.85      0.84      0.84      1694\n",
      "\n"
     ]
    }
   ],
   "source": [
    "nb4=Pipeline([('vectorizer',CountVectorizer(ngram_range=(1,3))),('nb',MultinomialNB(alpha=0.75))])\n",
    "\n",
    "nb4.fit(x_train,y_train)\n",
    "\n",
    "y_pred=nb4.predict(x_test)\n",
    "\n",
    "print(classification_report(y_test,y_pred))"
   ]
  },
  {
   "cell_type": "code",
   "execution_count": 29,
   "id": "475b5c55-2f29-4f66-be95-8f9264889206",
   "metadata": {},
   "outputs": [
    {
     "name": "stdout",
     "output_type": "stream",
     "text": [
      "              precision    recall  f1-score   support\n",
      "\n",
      "           0       0.92      0.82      0.87       327\n",
      "           1       0.89      0.78      0.83       339\n",
      "           2       0.88      0.85      0.87       328\n",
      "           3       0.83      0.83      0.83       351\n",
      "           4       0.75      0.93      0.83       349\n",
      "\n",
      "    accuracy                           0.84      1694\n",
      "   macro avg       0.85      0.84      0.85      1694\n",
      "weighted avg       0.85      0.84      0.85      1694\n",
      "\n"
     ]
    }
   ],
   "source": [
    "nb5=Pipeline([('vectorizer',CountVectorizer(ngram_range=(1,3))),('nb',MultinomialNB(alpha=0.80))])\n",
    "\n",
    "nb5.fit(x_train,y_train)\n",
    "\n",
    "y_pred=nb5.predict(x_test)\n",
    "\n",
    "print(classification_report(y_test,y_pred))"
   ]
  },
  {
   "cell_type": "code",
   "execution_count": 30,
   "id": "fb9a75d2-1b29-4f9b-a6e9-02db0dccb07a",
   "metadata": {},
   "outputs": [],
   "source": [
    "from sklearn.ensemble import RandomForestClassifier"
   ]
  },
  {
   "cell_type": "code",
   "execution_count": 31,
   "id": "2e14ad8a-b0a5-4df7-9d90-47ae884f6988",
   "metadata": {},
   "outputs": [
    {
     "name": "stdout",
     "output_type": "stream",
     "text": [
      "              precision    recall  f1-score   support\n",
      "\n",
      "           0       0.88      0.82      0.85       327\n",
      "           1       0.86      0.81      0.84       339\n",
      "           2       0.88      0.86      0.87       328\n",
      "           3       0.87      0.85      0.86       351\n",
      "           4       0.79      0.92      0.85       349\n",
      "\n",
      "    accuracy                           0.85      1694\n",
      "   macro avg       0.86      0.85      0.85      1694\n",
      "weighted avg       0.86      0.85      0.85      1694\n",
      "\n"
     ]
    }
   ],
   "source": [
    "nb2=Pipeline([('vectorizer',CountVectorizer(ngram_range=(1,3))),('nb',RandomForestClassifier())])\n",
    "\n",
    "nb2.fit(x_train,y_train)\n",
    "\n",
    "y_pred=nb2.predict(x_test)\n",
    "\n",
    "print(classification_report(y_test,y_pred))"
   ]
  },
  {
   "cell_type": "code",
   "execution_count": 32,
   "id": "a5aa07ed-ad1a-4ac4-abce-6e3cc8c6cefe",
   "metadata": {},
   "outputs": [
    {
     "name": "stdout",
     "output_type": "stream",
     "text": [
      "              precision    recall  f1-score   support\n",
      "\n",
      "           0       0.89      0.83      0.86       327\n",
      "           1       0.84      0.80      0.82       339\n",
      "           2       0.88      0.84      0.86       328\n",
      "           3       0.85      0.84      0.84       351\n",
      "           4       0.79      0.92      0.85       349\n",
      "\n",
      "    accuracy                           0.85      1694\n",
      "   macro avg       0.85      0.85      0.85      1694\n",
      "weighted avg       0.85      0.85      0.85      1694\n",
      "\n"
     ]
    }
   ],
   "source": [
    "nb6=Pipeline([('vectorizer',CountVectorizer(ngram_range=(1,2))),('nb',RandomForestClassifier())])\n",
    "\n",
    "nb6.fit(x_train,y_train)\n",
    "\n",
    "y_pred=nb6.predict(x_test)\n",
    "\n",
    "print(classification_report(y_test,y_pred))"
   ]
  },
  {
   "cell_type": "code",
   "execution_count": 33,
   "id": "282b3ec7-64c1-42ad-a6ae-75bec761da42",
   "metadata": {},
   "outputs": [
    {
     "name": "stdout",
     "output_type": "stream",
     "text": [
      "              precision    recall  f1-score   support\n",
      "\n",
      "           0       0.91      0.83      0.87       327\n",
      "           1       0.81      0.80      0.81       339\n",
      "           2       0.82      0.86      0.84       328\n",
      "           3       0.83      0.79      0.81       351\n",
      "           4       0.81      0.89      0.85       349\n",
      "\n",
      "    accuracy                           0.83      1694\n",
      "   macro avg       0.84      0.83      0.83      1694\n",
      "weighted avg       0.83      0.83      0.83      1694\n",
      "\n"
     ]
    }
   ],
   "source": [
    "nb7=Pipeline([('vectorizer',TfidfVectorizer()),('nb',RandomForestClassifier())])\n",
    "\n",
    "nb7.fit(x_train,y_train)\n",
    "\n",
    "y_pred=nb7.predict(x_test)\n",
    "\n",
    "print(classification_report(y_test,y_pred))"
   ]
  },
  {
   "cell_type": "code",
   "execution_count": 34,
   "id": "039dc72d-e577-49a4-88db-0f801b90d7e7",
   "metadata": {},
   "outputs": [
    {
     "name": "stdout",
     "output_type": "stream",
     "text": [
      "              precision    recall  f1-score   support\n",
      "\n",
      "           0       1.00      0.81      0.89       327\n",
      "           1       0.83      0.78      0.81       339\n",
      "           2       0.85      0.82      0.83       328\n",
      "           3       0.76      0.79      0.78       351\n",
      "           4       0.75      0.91      0.82       349\n",
      "\n",
      "    accuracy                           0.82      1694\n",
      "   macro avg       0.84      0.82      0.83      1694\n",
      "weighted avg       0.83      0.82      0.82      1694\n",
      "\n"
     ]
    }
   ],
   "source": [
    "from sklearn.svm import SVC\n",
    "nb8=Pipeline([('vectorizer',TfidfVectorizer()),('nb',SVC())])\n",
    "\n",
    "nb8.fit(x_train,y_train)\n",
    "\n",
    "y_pred=nb8.predict(x_test)\n",
    "\n",
    "print(classification_report(y_test,y_pred))"
   ]
  },
  {
   "cell_type": "code",
   "execution_count": 35,
   "id": "f025af48-a657-4461-8c15-f5a78e585551",
   "metadata": {},
   "outputs": [
    {
     "name": "stdout",
     "output_type": "stream",
     "text": [
      "              precision    recall  f1-score   support\n",
      "\n",
      "           0       0.99      0.81      0.89       327\n",
      "           1       0.85      0.79      0.82       339\n",
      "           2       0.93      0.83      0.88       328\n",
      "           3       0.76      0.81      0.79       351\n",
      "           4       0.73      0.92      0.81       349\n",
      "\n",
      "    accuracy                           0.83      1694\n",
      "   macro avg       0.85      0.83      0.84      1694\n",
      "weighted avg       0.85      0.83      0.84      1694\n",
      "\n"
     ]
    }
   ],
   "source": [
    "nb9=Pipeline([('vectorizer',CountVectorizer()),('nb',SVC())])\n",
    "\n",
    "nb9.fit(x_train,y_train)\n",
    "\n",
    "y_pred=nb9.predict(x_test)\n",
    "\n",
    "print(classification_report(y_test,y_pred))"
   ]
  },
  {
   "cell_type": "code",
   "execution_count": 36,
   "id": "c7e17ae1-7c85-438e-b536-b729a2fd23fa",
   "metadata": {},
   "outputs": [
    {
     "name": "stdout",
     "output_type": "stream",
     "text": [
      "              precision    recall  f1-score   support\n",
      "\n",
      "           0       0.99      0.81      0.89       327\n",
      "           1       0.89      0.80      0.84       339\n",
      "           2       0.92      0.84      0.88       328\n",
      "           3       0.75      0.86      0.80       351\n",
      "           4       0.76      0.91      0.83       349\n",
      "\n",
      "    accuracy                           0.85      1694\n",
      "   macro avg       0.86      0.85      0.85      1694\n",
      "weighted avg       0.86      0.85      0.85      1694\n",
      "\n"
     ]
    }
   ],
   "source": [
    "nb10=Pipeline([('vectorizer',CountVectorizer(ngram_range=(1,2))),('nb',SVC())])\n",
    "\n",
    "nb10.fit(x_train,y_train)\n",
    "\n",
    "y_pred=nb10.predict(x_test)\n",
    "\n",
    "print(classification_report(y_test,y_pred))"
   ]
  },
  {
   "cell_type": "code",
   "execution_count": 37,
   "id": "18ec74ab-cd57-4703-b569-9974255a1134",
   "metadata": {},
   "outputs": [
    {
     "name": "stdout",
     "output_type": "stream",
     "text": [
      "              precision    recall  f1-score   support\n",
      "\n",
      "           0       0.99      0.81      0.89       327\n",
      "           1       0.89      0.81      0.85       339\n",
      "           2       0.90      0.84      0.87       328\n",
      "           3       0.79      0.88      0.84       351\n",
      "           4       0.76      0.92      0.83       349\n",
      "\n",
      "    accuracy                           0.85      1694\n",
      "   macro avg       0.87      0.85      0.86      1694\n",
      "weighted avg       0.87      0.85      0.86      1694\n",
      "\n"
     ]
    }
   ],
   "source": [
    "model=Pipeline([('vectorizer',CountVectorizer(ngram_range=(1,3))),('nb',SVC())])\n",
    "\n",
    "model.fit(x_train,y_train)\n",
    "\n",
    "y_pred=model.predict(x_test)\n",
    "\n",
    "print(classification_report(y_test,y_pred)) ##best model till now"
   ]
  },
  {
   "cell_type": "code",
   "execution_count": 38,
   "id": "b47d24ae-153a-47eb-897b-579cd21fbcd8",
   "metadata": {},
   "outputs": [
    {
     "name": "stdout",
     "output_type": "stream",
     "text": [
      "              precision    recall  f1-score   support\n",
      "\n",
      "           0       0.99      0.81      0.89       327\n",
      "           1       0.89      0.81      0.84       339\n",
      "           2       0.90      0.84      0.87       328\n",
      "           3       0.80      0.87      0.84       351\n",
      "           4       0.76      0.93      0.84       349\n",
      "\n",
      "    accuracy                           0.85      1694\n",
      "   macro avg       0.87      0.85      0.86      1694\n",
      "weighted avg       0.87      0.85      0.86      1694\n",
      "\n"
     ]
    }
   ],
   "source": [
    "nb11=Pipeline([('vectorizer',CountVectorizer(ngram_range=(1,4))),('nb',SVC())])\n",
    "\n",
    "nb11.fit(x_train,y_train)\n",
    "\n",
    "y_pred=nb11.predict(x_test)\n",
    "\n",
    "print(classification_report(y_test,y_pred)) #best model"
   ]
  },
  {
   "cell_type": "code",
   "execution_count": 39,
   "id": "b2a90302-2188-45c8-8179-73388511946e",
   "metadata": {},
   "outputs": [
    {
     "name": "stdout",
     "output_type": "stream",
     "text": [
      "              precision    recall  f1-score   support\n",
      "\n",
      "           0       0.80      0.87      0.84       327\n",
      "           1       0.87      0.81      0.83       339\n",
      "           2       0.86      0.85      0.86       328\n",
      "           3       0.85      0.84      0.85       351\n",
      "           4       0.88      0.89      0.89       349\n",
      "\n",
      "    accuracy                           0.85      1694\n",
      "   macro avg       0.85      0.85      0.85      1694\n",
      "weighted avg       0.85      0.85      0.85      1694\n",
      "\n"
     ]
    }
   ],
   "source": [
    "nb12=Pipeline([('vectorizer',CountVectorizer(ngram_range=(1,3))),('nb',SVC(kernel='linear'))])\n",
    "\n",
    "nb12.fit(x_train,y_train)\n",
    "\n",
    "y_pred=nb12.predict(x_test)\n",
    "\n",
    "print(classification_report(y_test,y_pred))"
   ]
  },
  {
   "cell_type": "code",
   "execution_count": 99,
   "id": "a8fe3774-8e9f-4a67-b8d7-6e062f358ddc",
   "metadata": {},
   "outputs": [],
   "source": [
    "#trying word embeddings\n",
    "df2=df\n"
   ]
  },
  {
   "cell_type": "code",
   "execution_count": 100,
   "id": "e712f474-0923-448f-a9a2-c6a484658622",
   "metadata": {},
   "outputs": [],
   "source": [
    "import spacy\n",
    "nlp=spacy.load('en_core_web_lg')\n",
    "df2['User-Like Detailed Description']=df2['User-Like Detailed Description'].apply(lambda text: nlp(text).vector)"
   ]
  },
  {
   "cell_type": "code",
   "execution_count": null,
   "id": "88045e8f-32fe-4b7f-8d9c-cf4ce27ef910",
   "metadata": {},
   "outputs": [],
   "source": [
    "df2.head()"
   ]
  },
  {
   "cell_type": "code",
   "execution_count": 120,
   "id": "ab49d36e-48d8-456a-ab9f-d0d4bd7e7085",
   "metadata": {},
   "outputs": [],
   "source": [
    "x_train,x_test,y_train,y_test=train_test_split(df2['User-Like Detailed Description'],df2['Ticket Type'],test_size=0.2,random_state=2022)"
   ]
  },
  {
   "cell_type": "code",
   "execution_count": 121,
   "id": "86ef307b-7582-493a-81ef-6783b57f44db",
   "metadata": {},
   "outputs": [
    {
     "data": {
      "text/plain": [
       "668     [0.326398, -0.10568544, -2.0100908, -2.6702142...\n",
       "7654    [0.7002304, 0.13713808, -1.5896405, -0.4777645...\n",
       "7715    [0.53215146, 0.51662683, -2.7057643, -1.406553...\n",
       "5639    [0.80070907, 0.7055786, -2.1853561, -1.3651896...\n",
       "4410    [0.6085854, 0.98713917, -2.9767659, -2.0597472...\n",
       "                              ...                        \n",
       "6384    [0.94630325, -0.49035415, -1.4741162, -1.47992...\n",
       "4720    [1.1081737, 0.84766114, -1.9202365, -1.8135728...\n",
       "173     [1.4142675, 0.63447505, -0.7080798, -0.8651802...\n",
       "1244    [0.36054978, 0.30529317, -1.9845132, -2.264727...\n",
       "4989    [1.1628337, 0.78991395, -1.9126666, -1.7779843...\n",
       "Name: User-Like Detailed Description, Length: 6775, dtype: object"
      ]
     },
     "execution_count": 121,
     "metadata": {},
     "output_type": "execute_result"
    }
   ],
   "source": [
    "x_train"
   ]
  },
  {
   "cell_type": "code",
   "execution_count": 122,
   "id": "8b0dc1c1-f4b6-4669-963e-ad201f549574",
   "metadata": {},
   "outputs": [],
   "source": [
    "#scaling these values\n",
    "from sklearn.preprocessing import MinMaxScaler\n",
    "scaler=MinMaxScaler()"
   ]
  },
  {
   "cell_type": "code",
   "execution_count": 123,
   "id": "94de6eb2-8521-4be0-bde9-27a0e49b7b27",
   "metadata": {},
   "outputs": [],
   "source": [
    "import numpy as np\n",
    "x_train_2d=np.stack(x_train)\n",
    "x_test_2d=np.stack(x_test)\n",
    "x_train_scaled=scaler.fit_transform(x_train_2d)\n",
    "x_test_scaled=scaler.transform(x_test_2d)"
   ]
  },
  {
   "cell_type": "code",
   "execution_count": 124,
   "id": "a9392035-f194-491b-a3d1-4d62bf0df1ea",
   "metadata": {},
   "outputs": [
    {
     "name": "stdout",
     "output_type": "stream",
     "text": [
      "              precision    recall  f1-score   support\n",
      "\n",
      "           0       0.28      0.38      0.32       344\n",
      "           1       0.28      0.31      0.29       351\n",
      "           2       0.29      0.29      0.29       319\n",
      "           3       0.37      0.29      0.32       360\n",
      "           4       0.36      0.25      0.30       320\n",
      "\n",
      "    accuracy                           0.31      1694\n",
      "   macro avg       0.31      0.30      0.30      1694\n",
      "weighted avg       0.31      0.31      0.30      1694\n",
      "\n"
     ]
    }
   ],
   "source": [
    "from sklearn.neighbors import KNeighborsClassifier\n",
    "model=KNeighborsClassifier()\n",
    "\n",
    "model.fit(x_train_scaled,y_train)\n",
    "\n",
    "y_pred=model.predict(x_test_scaled)\n",
    "\n",
    "print(classification_report(y_test,y_pred))"
   ]
  },
  {
   "cell_type": "code",
   "execution_count": 125,
   "id": "58b2d66e-8871-4bd3-a9fe-2c27e851170f",
   "metadata": {},
   "outputs": [
    {
     "name": "stdout",
     "output_type": "stream",
     "text": [
      "              precision    recall  f1-score   support\n",
      "\n",
      "           0       0.56      0.26      0.35       344\n",
      "           1       0.48      0.21      0.29       351\n",
      "           2       0.56      0.29      0.39       319\n",
      "           3       0.41      0.61      0.49       360\n",
      "           4       0.33      0.70      0.45       320\n",
      "\n",
      "    accuracy                           0.41      1694\n",
      "   macro avg       0.47      0.41      0.39      1694\n",
      "weighted avg       0.47      0.41      0.39      1694\n",
      "\n"
     ]
    }
   ],
   "source": [
    "\n",
    "model=MultinomialNB()\n",
    "\n",
    "model.fit(x_train_scaled,y_train)\n",
    "\n",
    "y_pred=model.predict(x_test_scaled)\n",
    "\n",
    "print(classification_report(y_test,y_pred))"
   ]
  },
  {
   "cell_type": "code",
   "execution_count": 126,
   "id": "be42cd85-8b80-4ef4-8ae8-16df001d3d8b",
   "metadata": {},
   "outputs": [
    {
     "name": "stdout",
     "output_type": "stream",
     "text": [
      "              precision    recall  f1-score   support\n",
      "\n",
      "           0       0.91      0.72      0.80       344\n",
      "           1       0.78      0.75      0.77       351\n",
      "           2       0.81      0.70      0.75       319\n",
      "           3       0.75      0.79      0.77       360\n",
      "           4       0.62      0.83      0.71       320\n",
      "\n",
      "    accuracy                           0.76      1694\n",
      "   macro avg       0.77      0.76      0.76      1694\n",
      "weighted avg       0.77      0.76      0.76      1694\n",
      "\n"
     ]
    }
   ],
   "source": [
    "model=SVC()\n",
    "\n",
    "model.fit(x_train_scaled,y_train)\n",
    "\n",
    "y_pred=model.predict(x_test_scaled)\n",
    "\n",
    "print(classification_report(y_test,y_pred))"
   ]
  },
  {
   "cell_type": "code",
   "execution_count": 127,
   "id": "ba2e7569-186e-4d51-8bc2-422ca371acc7",
   "metadata": {},
   "outputs": [
    {
     "name": "stdout",
     "output_type": "stream",
     "text": [
      "              precision    recall  f1-score   support\n",
      "\n",
      "           0       0.48      0.38      0.42       344\n",
      "           1       0.46      0.38      0.42       351\n",
      "           2       0.45      0.46      0.46       319\n",
      "           3       0.51      0.56      0.53       360\n",
      "           4       0.47      0.60      0.53       320\n",
      "\n",
      "    accuracy                           0.47      1694\n",
      "   macro avg       0.47      0.48      0.47      1694\n",
      "weighted avg       0.47      0.47      0.47      1694\n",
      "\n"
     ]
    }
   ],
   "source": [
    "model=RandomForestClassifier()\n",
    "\n",
    "model.fit(x_train_scaled,y_train)\n",
    "\n",
    "y_pred=model.predict(x_test_scaled)\n",
    "\n",
    "print(classification_report(y_test,y_pred))"
   ]
  },
  {
   "cell_type": "code",
   "execution_count": 40,
   "id": "eab4451b-a871-435f-b020-417f84e5f303",
   "metadata": {},
   "outputs": [
    {
     "data": {
      "text/plain": [
       "['model.pkl']"
      ]
     },
     "execution_count": 40,
     "metadata": {},
     "output_type": "execute_result"
    }
   ],
   "source": [
    "import joblib\n",
    "joblib.dump(nb12,'nb12.pkl')\n",
    "joblib.dump(model,'model.pkl')"
   ]
  },
  {
   "cell_type": "code",
   "execution_count": 41,
   "id": "ccb333ec-19bc-475e-af0e-5b402f8244e0",
   "metadata": {},
   "outputs": [
    {
     "data": {
      "text/plain": [
       "['final_tickets_encoder.pkl']"
      ]
     },
     "execution_count": 41,
     "metadata": {},
     "output_type": "execute_result"
    }
   ],
   "source": [
    "joblib.dump(le,'final_tickets_encoder.pkl')"
   ]
  },
  {
   "cell_type": "code",
   "execution_count": 42,
   "id": "01d27adf-efdc-4c15-a484-32bedcfd0f13",
   "metadata": {},
   "outputs": [
    {
     "data": {
      "text/plain": [
       "array(['Billing inquiry', 'Cancellation request', 'Product inquiry',\n",
       "       'Refund request', 'Technical issue'], dtype=object)"
      ]
     },
     "execution_count": 42,
     "metadata": {},
     "output_type": "execute_result"
    }
   ],
   "source": [
    "le.classes_"
   ]
  },
  {
   "cell_type": "code",
   "execution_count": 43,
   "id": "6cf1f37c-0edd-437f-81e6-3d4571fe28bc",
   "metadata": {},
   "outputs": [
    {
     "data": {
      "text/plain": [
       "'cancellation request microsoft office issue payment issue facing problem turning working fine yesterday doesnt respond remove new productpurch ive checked available software updates none'"
      ]
     },
     "execution_count": 43,
     "metadata": {},
     "output_type": "execute_result"
    }
   ],
   "source": [
    "df['User-Like Detailed Description'][5]\n"
   ]
  },
  {
   "cell_type": "code",
   "execution_count": 44,
   "id": "cc130677-c2fa-477f-b4d8-336d8c294347",
   "metadata": {},
   "outputs": [
    {
     "data": {
      "text/plain": [
       "1"
      ]
     },
     "execution_count": 44,
     "metadata": {},
     "output_type": "execute_result"
    }
   ],
   "source": [
    "df['Ticket Type'][5]"
   ]
  },
  {
   "cell_type": "code",
   "execution_count": 45,
   "id": "00639832-ad9b-4902-abc8-8a79c7a252b8",
   "metadata": {},
   "outputs": [
    {
     "data": {
      "text/plain": [
       "4587    could please assist cancellation request canon...\n",
       "2794    cancellation request dell xps issue peripheral...\n",
       "1679    experiencing issue microsoft surface need help...\n",
       "6863    experiencing issue fitbit charge need help har...\n",
       "6395    product inquiry iphone issue account access is...\n",
       "                              ...                        \n",
       "6111    id like raise technical issue related nest the...\n",
       "2933    refund request samsung soundbar issue account ...\n",
       "8087    cancellation request lg smart tv issue refund ...\n",
       "7958    experiencing issue playstation need help cance...\n",
       "7185    could please assist cancellation request hp pa...\n",
       "Name: User-Like Detailed Description, Length: 6775, dtype: object"
      ]
     },
     "execution_count": 45,
     "metadata": {},
     "output_type": "execute_result"
    }
   ],
   "source": [
    "x_train"
   ]
  },
  {
   "cell_type": "code",
   "execution_count": 46,
   "id": "6e9b1d75-bd1d-485d-9ca0-91fbce142a6e",
   "metadata": {},
   "outputs": [
    {
     "data": {
      "text/plain": [
       "4587    1\n",
       "2794    1\n",
       "1679    3\n",
       "6863    4\n",
       "6395    2\n",
       "       ..\n",
       "6111    4\n",
       "2933    3\n",
       "8087    1\n",
       "7958    1\n",
       "7185    1\n",
       "Name: Ticket Type, Length: 6775, dtype: int32"
      ]
     },
     "execution_count": 46,
     "metadata": {},
     "output_type": "execute_result"
    }
   ],
   "source": [
    "y_train\n"
   ]
  },
  {
   "cell_type": "code",
   "execution_count": 48,
   "id": "d97b4a5f-d969-4956-abca-919889c8ba2c",
   "metadata": {},
   "outputs": [
    {
     "data": {
      "text/plain": [
       "'product inquiry iphone issue account access issue please assist item ship within 35 business days purchase ive noticed peculiar error message popping screen says errormessage mean'"
      ]
     },
     "execution_count": 48,
     "metadata": {},
     "output_type": "execute_result"
    }
   ],
   "source": [
    "x_train[6395]"
   ]
  },
  {
   "cell_type": "code",
   "execution_count": 51,
   "id": "710b281a-3e4e-4f95-bdd6-07232abf1fdd",
   "metadata": {},
   "outputs": [
    {
     "name": "stdout",
     "output_type": "stream",
     "text": [
      "Series([], Name: Ticket Type, dtype: int32)\n"
     ]
    }
   ],
   "source": [
    "filtered_y_train = y_train[y_train == '5']\n",
    "\n",
    "# Display the filtered values\n",
    "print(filtered_y_train)"
   ]
  },
  {
   "cell_type": "code",
   "execution_count": 52,
   "id": "77e5620a-ddec-4b32-a252-06d278c696a9",
   "metadata": {},
   "outputs": [
    {
     "data": {
      "text/plain": [
       "6111    4\n",
       "2933    3\n",
       "8087    1\n",
       "7958    1\n",
       "7185    1\n",
       "Name: Ticket Type, dtype: int32"
      ]
     },
     "execution_count": 52,
     "metadata": {},
     "output_type": "execute_result"
    }
   ],
   "source": [
    "y_train.tail()"
   ]
  },
  {
   "cell_type": "code",
   "execution_count": 53,
   "id": "5d67c2d7-9c34-443d-922d-ff3f32898ae1",
   "metadata": {},
   "outputs": [
    {
     "data": {
      "text/plain": [
       "'id like raise technical issue related nest thermostat main problem installation support ive noticed software bug app causing data loss unexpected errors resolve issue make sure youre running valid account app doesnt give rely heavily daily tasks issue hindering productivity'"
      ]
     },
     "execution_count": 53,
     "metadata": {},
     "output_type": "execute_result"
    }
   ],
   "source": [
    "x_train[6111]"
   ]
  },
  {
   "cell_type": "code",
   "execution_count": null,
   "id": "f522c7aa-f4a2-4051-bc64-b3f41e324edf",
   "metadata": {},
   "outputs": [],
   "source": []
  }
 ],
 "metadata": {
  "kernelspec": {
   "display_name": "Python 3 (ipykernel)",
   "language": "python",
   "name": "python3"
  },
  "language_info": {
   "codemirror_mode": {
    "name": "ipython",
    "version": 3
   },
   "file_extension": ".py",
   "mimetype": "text/x-python",
   "name": "python",
   "nbconvert_exporter": "python",
   "pygments_lexer": "ipython3",
   "version": "3.12.4"
  }
 },
 "nbformat": 4,
 "nbformat_minor": 5
}
